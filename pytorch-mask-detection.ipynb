{
 "cells": [
  {
   "cell_type": "code",
   "execution_count": 1,
   "id": "6f3eafa1",
   "metadata": {
    "_cell_guid": "b1076dfc-b9ad-4769-8c92-a6c4dae69d19",
    "_uuid": "8f2839f25d086af736a60e9eeb907d3b93b6e0e5",
    "execution": {
     "iopub.execute_input": "2021-12-31T13:18:12.639920Z",
     "iopub.status.busy": "2021-12-31T13:18:12.638500Z",
     "iopub.status.idle": "2021-12-31T13:18:14.074326Z",
     "shell.execute_reply": "2021-12-31T13:18:14.073591Z",
     "shell.execute_reply.started": "2021-12-31T13:17:12.583808Z"
    },
    "papermill": {
     "duration": 1.455049,
     "end_time": "2021-12-31T13:18:14.074501",
     "exception": false,
     "start_time": "2021-12-31T13:18:12.619452",
     "status": "completed"
    },
    "tags": []
   },
   "outputs": [],
   "source": [
    "import os\n",
    "import numpy as np\n",
    "import torch\n",
    "import glob\n",
    "import torch.nn as nn\n",
    "from torchvision.transforms import transforms\n",
    "from torch.utils.data import DataLoader\n",
    "from torch.optim import Adam\n",
    "from torch.autograd import Variable\n",
    "import torchvision\n",
    "import pathlib"
   ]
  },
  {
   "cell_type": "code",
   "execution_count": 2,
   "id": "6e787f8f",
   "metadata": {
    "execution": {
     "iopub.execute_input": "2021-12-31T13:18:14.108668Z",
     "iopub.status.busy": "2021-12-31T13:18:14.107895Z",
     "iopub.status.idle": "2021-12-31T13:18:14.110599Z",
     "shell.execute_reply": "2021-12-31T13:18:14.110108Z",
     "shell.execute_reply.started": "2021-12-31T13:17:13.965220Z"
    },
    "papermill": {
     "duration": 0.020887,
     "end_time": "2021-12-31T13:18:14.110738",
     "exception": false,
     "start_time": "2021-12-31T13:18:14.089851",
     "status": "completed"
    },
    "tags": []
   },
   "outputs": [],
   "source": [
    "device=torch.device('cuda' if torch.cuda.is_available() else 'cpu')"
   ]
  },
  {
   "cell_type": "code",
   "execution_count": 3,
   "id": "9198b5a9",
   "metadata": {
    "execution": {
     "iopub.execute_input": "2021-12-31T13:18:14.142685Z",
     "iopub.status.busy": "2021-12-31T13:18:14.141956Z",
     "iopub.status.idle": "2021-12-31T13:18:14.145255Z",
     "shell.execute_reply": "2021-12-31T13:18:14.145959Z",
     "shell.execute_reply.started": "2021-12-31T13:17:13.972105Z"
    },
    "papermill": {
     "duration": 0.022083,
     "end_time": "2021-12-31T13:18:14.146173",
     "exception": false,
     "start_time": "2021-12-31T13:18:14.124090",
     "status": "completed"
    },
    "tags": []
   },
   "outputs": [
    {
     "name": "stdout",
     "output_type": "stream",
     "text": [
      "cpu\n"
     ]
    }
   ],
   "source": [
    "print(device)"
   ]
  },
  {
   "cell_type": "code",
   "execution_count": 4,
   "id": "9245f037",
   "metadata": {
    "execution": {
     "iopub.execute_input": "2021-12-31T13:18:14.178057Z",
     "iopub.status.busy": "2021-12-31T13:18:14.177405Z",
     "iopub.status.idle": "2021-12-31T13:18:14.181854Z",
     "shell.execute_reply": "2021-12-31T13:18:14.182415Z",
     "shell.execute_reply.started": "2021-12-31T13:17:13.985388Z"
    },
    "papermill": {
     "duration": 0.021541,
     "end_time": "2021-12-31T13:18:14.182583",
     "exception": false,
     "start_time": "2021-12-31T13:18:14.161042",
     "status": "completed"
    },
    "tags": []
   },
   "outputs": [],
   "source": [
    "transformer=transforms.Compose([\n",
    "    transforms.Resize((150,150)),\n",
    "    transforms.RandomHorizontalFlip(),\n",
    "    transforms.ToTensor(),  \n",
    "    transforms.Normalize([0.5,0.5,0.5],[0.5,0.5,0.5])\n",
    "])"
   ]
  },
  {
   "cell_type": "code",
   "execution_count": 5,
   "id": "f20a4fd5",
   "metadata": {
    "execution": {
     "iopub.execute_input": "2021-12-31T13:18:14.212610Z",
     "iopub.status.busy": "2021-12-31T13:18:14.211977Z",
     "iopub.status.idle": "2021-12-31T13:18:20.920929Z",
     "shell.execute_reply": "2021-12-31T13:18:20.920352Z",
     "shell.execute_reply.started": "2021-12-31T13:17:13.993808Z"
    },
    "papermill": {
     "duration": 6.724919,
     "end_time": "2021-12-31T13:18:20.921086",
     "exception": false,
     "start_time": "2021-12-31T13:18:14.196167",
     "status": "completed"
    },
    "tags": []
   },
   "outputs": [],
   "source": [
    "train ='../input/Face_Mask_Dataset/Train'\n",
    "train_loader=DataLoader(\n",
    "    torchvision.datasets.ImageFolder(train,transform=transformer),\n",
    "    batch_size=64, shuffle=True\n",
    ")\n",
    "\n",
    "test ='../input/Face_Mask_Dataset/Test'\n",
    "test_loader=DataLoader(\n",
    "    torchvision.datasets.ImageFolder(test,transform=transformer),\n",
    "    batch_size=64, shuffle=True\n",
    ")\n",
    "\n",
      ]
  },
  {
   "cell_type": "code",
   "execution_count": 6,
   "id": "8218a3b9",
   "metadata": {
    "execution": {
     "iopub.execute_input": "2021-12-31T13:18:20.953248Z",
     "iopub.status.busy": "2021-12-31T13:18:20.952400Z",
     "iopub.status.idle": "2021-12-31T13:18:20.954713Z",
     "shell.execute_reply": "2021-12-31T13:18:20.955241Z",
     "shell.execute_reply.started": "2021-12-31T13:17:17.463693Z"
    },
    "papermill": {
     "duration": 0.020981,
     "end_time": "2021-12-31T13:18:20.955416",
     "exception": false,
     "start_time": "2021-12-31T13:18:20.934435",
     "status": "completed"
    },
    "tags": []
   },
   "outputs": [],
   "source": [
    "root=pathlib.Path(train)\n",
    "classes=sorted([j.name.split('/')[-1] for j in root.iterdir()])"
   ]
  },
  {
   "cell_type": "code",
   "execution_count": 7,
   "id": "974600ce",
   "metadata": {
    "execution": {
     "iopub.execute_input": "2021-12-31T13:18:20.986648Z",
     "iopub.status.busy": "2021-12-31T13:18:20.985651Z",
     "iopub.status.idle": "2021-12-31T13:18:20.990936Z",
     "shell.execute_reply": "2021-12-31T13:18:20.991536Z",
     "shell.execute_reply.started": "2021-12-31T13:17:17.471489Z"
    },
    "papermill": {
     "duration": 0.022851,
     "end_time": "2021-12-31T13:18:20.991698",
     "exception": false,
     "start_time": "2021-12-31T13:18:20.968847",
     "status": "completed"
    },
    "tags": []
   },
   "outputs": [
    {
     "name": "stdout",
     "output_type": "stream",
     "text": [
      "['WithMask', 'WithoutMask']\n"
     ]
    }
   ],
   "source": [
    "print(classes)"
   ]
  },
  {
   "cell_type": "code",
   "execution_count": 8,
   "id": "3e9dcb3e",
   "metadata": {
    "execution": {
     "iopub.execute_input": "2021-12-31T13:18:21.022992Z",
     "iopub.status.busy": "2021-12-31T13:18:21.022000Z",
     "iopub.status.idle": "2021-12-31T13:18:21.033328Z",
     "shell.execute_reply": "2021-12-31T13:18:21.033906Z",
     "shell.execute_reply.started": "2021-12-31T13:17:17.486589Z"
    },
    "papermill": {
     "duration": 0.028669,
     "end_time": "2021-12-31T13:18:21.034079",
     "exception": false,
     "start_time": "2021-12-31T13:18:21.005410",
     "status": "completed"
    },
    "tags": []
   },
   "outputs": [],
   "source": [
    "\n",
    "class ConvNet(nn.Module):\n",
    "    def __init__(self,num_classes=6):\n",
    "        super(ConvNet,self).__init__()\n",
    "        \n",
    "        self.conv1=nn.Conv2d(in_channels=3,out_channels=12,kernel_size=3,stride=1,padding=1)\n",
    "        \n",
    "        self.bn1=nn.BatchNorm2d(num_features=12)\n",
    "        self.relu1=nn.ReLU()\n",
    "        self.pool=nn.MaxPool2d(kernel_size=2)\n",
    "        self.conv2=nn.Conv2d(in_channels=12,out_channels=20,kernel_size=3,stride=1,padding=1)\n",
    "        self.relu2=nn.ReLU()\n",
    "        self.conv3=nn.Conv2d(in_channels=20,out_channels=32,kernel_size=3,stride=1,padding=1)\n",
    "        self.bn3=nn.BatchNorm2d(num_features=32)\n",
    "        self.relu3=nn.ReLU()\n",
    "        self.fc=nn.Linear(in_features=75 * 75 * 32,out_features=num_classes)\n",
    "        \n",
    "    def forward(self,input):\n",
    "        output=self.conv1(input)\n",
    "        output=self.bn1(output)\n",
    "        output=self.relu1(output)\n",
    "        output=self.pool(output)\n",
    "        output=self.conv2(output)\n",
    "        output=self.relu2(output)\n",
    "        output=self.conv3(output)\n",
    "        output=self.bn3(output)\n",
    "        output=self.relu3(output)\n",
    "        output=output.view(-1,32*75*75)\n",
    "        output=self.fc(output)\n",
    "        return output"
   ]
  },
  {
   "cell_type": "code",
   "execution_count": 9,
   "id": "69edb3d7",
   "metadata": {
    "execution": {
     "iopub.execute_input": "2021-12-31T13:18:21.065187Z",
     "iopub.status.busy": "2021-12-31T13:18:21.064222Z",
     "iopub.status.idle": "2021-12-31T13:18:21.120730Z",
     "shell.execute_reply": "2021-12-31T13:18:21.121304Z",
     "shell.execute_reply.started": "2021-12-31T13:17:17.501753Z"
    },
    "papermill": {
     "duration": 0.073632,
     "end_time": "2021-12-31T13:18:21.121482",
     "exception": false,
     "start_time": "2021-12-31T13:18:21.047850",
     "status": "completed"
    },
    "tags": []
   },
   "outputs": [],
   "source": [
    "model=ConvNet(num_classes=6).to(device)"
   ]
  },
  {
   "cell_type": "code",
   "execution_count": 10,
   "id": "577b31fc",
   "metadata": {
    "execution": {
     "iopub.execute_input": "2021-12-31T13:18:21.152409Z",
     "iopub.status.busy": "2021-12-31T13:18:21.151463Z",
     "iopub.status.idle": "2021-12-31T13:18:21.155546Z",
     "shell.execute_reply": "2021-12-31T13:18:21.156048Z",
     "shell.execute_reply.started": "2021-12-31T13:17:17.569462Z"
    },
    "papermill": {
     "duration": 0.021063,
     "end_time": "2021-12-31T13:18:21.156214",
     "exception": false,
     "start_time": "2021-12-31T13:18:21.135151",
     "status": "completed"
    },
    "tags": []
   },
   "outputs": [],
   "source": [
    "optimizer=Adam(model.parameters(),lr=0.001,weight_decay=0.0001)\n",
    "loss_function=nn.CrossEntropyLoss()"
   ]
  },
  {
   "cell_type": "code",
   "execution_count": 11,
   "id": "00993829",
   "metadata": {
    "execution": {
     "iopub.execute_input": "2021-12-31T13:18:21.187216Z",
     "iopub.status.busy": "2021-12-31T13:18:21.186240Z",
     "iopub.status.idle": "2021-12-31T13:18:21.189425Z",
     "shell.execute_reply": "2021-12-31T13:18:21.189920Z",
     "shell.execute_reply.started": "2021-12-31T13:17:17.576462Z"
    },
    "papermill": {
     "duration": 0.020184,
     "end_time": "2021-12-31T13:18:21.190088",
     "exception": false,
     "start_time": "2021-12-31T13:18:21.169904",
     "status": "completed"
    },
    "tags": []
   },
   "outputs": [],
   "source": [
    "num_epochs=10"
   ]
  },
  {
   "cell_type": "code",
   "execution_count": 12,
   "id": "b3a0119b",
   "metadata": {
    "execution": {
     "iopub.execute_input": "2021-12-31T13:18:21.221068Z",
     "iopub.status.busy": "2021-12-31T13:18:21.220125Z",
     "iopub.status.idle": "2021-12-31T13:18:21.269934Z",
     "shell.execute_reply": "2021-12-31T13:18:21.270439Z",
     "shell.execute_reply.started": "2021-12-31T13:17:17.587732Z"
    },
    "papermill": {
     "duration": 0.067017,
     "end_time": "2021-12-31T13:18:21.270620",
     "exception": false,
     "start_time": "2021-12-31T13:18:21.203603",
     "status": "completed"
    },
    "tags": []
   },
   "outputs": [],
   "source": [
    "train_count=len(glob.glob(train+'/**/*.png'))\n",
    "test_count=len(glob.glob(test+'/**/*.png'))"
   ]
  },
  {
   "cell_type": "code",
   "execution_count": 13,
   "id": "72c2fb6e",
   "metadata": {
    "execution": {
     "iopub.execute_input": "2021-12-31T13:18:21.302126Z",
     "iopub.status.busy": "2021-12-31T13:18:21.301123Z",
     "iopub.status.idle": "2021-12-31T13:18:21.307054Z",
     "shell.execute_reply": "2021-12-31T13:18:21.306211Z",
     "shell.execute_reply.started": "2021-12-31T13:17:18.074978Z"
    },
    "papermill": {
     "duration": 0.022909,
     "end_time": "2021-12-31T13:18:21.307235",
     "exception": false,
     "start_time": "2021-12-31T13:18:21.284326",
     "status": "completed"
    },
    "tags": []
   },
   "outputs": [
    {
     "name": "stdout",
     "output_type": "stream",
     "text": [
      "10000 992\n"
     ]
    }
   ],
   "source": [
    "print(train_count,test_count)"
   ]
  },
  {
   "cell_type": "code",
   "execution_count": 14,
   "id": "3b82c2e5",
   "metadata": {
    "execution": {
     "iopub.execute_input": "2021-12-31T13:18:21.347746Z",
     "iopub.status.busy": "2021-12-31T13:18:21.347110Z",
     "iopub.status.idle": "2021-12-31T13:46:28.544561Z",
     "shell.execute_reply": "2021-12-31T13:46:28.545116Z",
     "shell.execute_reply.started": "2021-12-31T13:17:18.104329Z"
    },
    "papermill": {
     "duration": 1687.223515,
     "end_time": "2021-12-31T13:46:28.545312",
     "exception": false,
     "start_time": "2021-12-31T13:18:21.321797",
     "status": "completed"
    },
    "tags": []
   },
   "outputs": [
    {
     "name": "stdout",
     "output_type": "stream",
     "text": [
      "Epoch: 0 Train Loss: tensor(0.7394) Train Accuracy: 0.9446 Test Accuracy: 0.9647177419354839\n",
      "Epoch: 1 Train Loss: tensor(0.4919) Train Accuracy: 0.9732 Test Accuracy: 0.9586693548387096\n",
      "Epoch: 2 Train Loss: tensor(0.3755) Train Accuracy: 0.9802 Test Accuracy: 0.9808467741935484\n",
      "Epoch: 3 Train Loss: tensor(0.1881) Train Accuracy: 0.9868 Test Accuracy: 0.9717741935483871\n",
      "Epoch: 4 Train Loss: tensor(0.1006) Train Accuracy: 0.992 Test Accuracy: 0.9737903225806451\n",
      "Epoch: 5 Train Loss: tensor(0.1619) Train Accuracy: 0.9886 Test Accuracy: 0.9778225806451613\n",
      "Epoch: 6 Train Loss: tensor(0.1517) Train Accuracy: 0.9898 Test Accuracy: 0.9858870967741935\n",
      "Epoch: 7 Train Loss: tensor(0.0993) Train Accuracy: 0.9931 Test Accuracy: 0.9828629032258065\n",
      "Epoch: 8 Train Loss: tensor(0.0759) Train Accuracy: 0.9943 Test Accuracy: 0.9899193548387096\n",
      "Epoch: 9 Train Loss: tensor(0.0605) Train Accuracy: 0.9947 Test Accuracy: 0.9929435483870968\n"
     ]
    }
   ],
   "source": [
    "best_accuracy=0.0\n",
    "\n",
    "for epoch in range(num_epochs):\n",
    "    model.train()\n",
    "    train_accuracy=0.0\n",
    "    train_loss=0.0\n",
    "    \n",
    "    for i, (images,labels) in enumerate(train_loader):\n",
    "        images=Variable(images.cpu())\n",
    "        labels=Variable(labels.cpu())\n",
    "            \n",
    "        optimizer.zero_grad()\n",
    "        \n",
    "        outputs=model(images)\n",
    "        loss=loss_function(outputs,labels)\n",
    "        loss.backward()\n",
    "        optimizer.step()\n",
    "        \n",
    "        train_loss+= loss.cpu().data*images.size(0)\n",
    "        _,prediction=torch.max(outputs.data,1)\n",
    "        \n",
    "        train_accuracy+=int(torch.sum(prediction==labels.data))\n",
    "        \n",
    "    train_accuracy=train_accuracy/train_count\n",
    "    train_loss=train_loss/train_count\n",
    "    \n",
    "    model.eval()\n",
    "    \n",
    "    test_accuracy=0.0\n",
    "    for i, (images,labels) in enumerate(test_loader):\n",
    "        if torch.cuda.is_available():\n",
    "            images=Variable(images.cpu())\n",
    "            labels=Variable(labels.cpu())\n",
    "            \n",
    "        outputs=model(images)\n",
    "        _,prediction=torch.max(outputs.data,1)\n",
    "        test_accuracy+=int(torch.sum(prediction==labels.data))\n",
    "    \n",
    "    test_accuracy=test_accuracy/test_count\n",
    "    \n",
    "    print('Epoch: '+str(epoch)+' Train Loss: '+str(train_loss)+' Train Accuracy: '+str(train_accuracy)+' Test Accuracy: '+str(test_accuracy))\n",
    "    \n",
    "    if test_accuracy>best_accuracy:\n",
    "        torch.save(model.state_dict(),'models/model360.pth')\n",
    "        best_accuracy=test_accuracy"
   ]
  },
  {
   "cell_type": "code",
   "execution_count": null,
   "id": "96350bd7",
   "metadata": {
    "papermill": {
     "duration": 0.017206,
     "end_time": "2021-12-31T13:46:28.579904",
     "exception": false,
     "start_time": "2021-12-31T13:46:28.562698",
     "status": "completed"
    },
    "tags": []
   },
   "outputs": [],
   "source": []
  }
 ],
 "metadata": {
  "kernelspec": {
   "display_name": "Python 3",
   "language": "python",
   "name": "python3"
  },
  "language_info": {
   "codemirror_mode": {
    "name": "ipython",
    "version": 3
   },
   "file_extension": ".py",
   "mimetype": "text/x-python",
   "name": "python",
   "nbconvert_exporter": "python",
   "pygments_lexer": "ipython3",
   "version": "3.7.12"
  },
  "papermill": {
   "default_parameters": {},
   "duration": 1707.781114,
   "end_time": "2021-12-31T13:46:29.410419",
   "environment_variables": {},
   "exception": null,
   "input_path": "__notebook__.ipynb",
   "output_path": "__notebook__.ipynb",
   "parameters": {},
   "start_time": "2021-12-31T13:18:01.629305",
   "version": "2.3.3"
  }
 },
 "nbformat": 4,
 "nbformat_minor": 5
}
